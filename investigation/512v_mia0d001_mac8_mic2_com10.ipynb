{
 "cells": [
  {
   "cell_type": "code",
   "execution_count": 1,
   "id": "d8057943",
   "metadata": {},
   "outputs": [],
   "source": [
    "import os\n",
    "import polars as pl\n",
    "import numpy as np\n",
    "\n",
    "from glob import glob\n",
    "from tqdm import tqdm"
   ]
  },
  {
   "cell_type": "code",
   "execution_count": 2,
   "id": "c3664043",
   "metadata": {},
   "outputs": [],
   "source": [
    "mesh_500_analysis_dir = '/media/koi/Expansion/data/mesh_500_analysis'\n",
    "objarverse_analysis_dir = '/media/koi/Expansion/data/objarverse_analysis'\n",
    "shapenet_analysis_dir = '/media/koi/Expansion/data/shapenet_analysis'"
   ]
  },
  {
   "cell_type": "code",
   "execution_count": 3,
   "id": "93e74e51",
   "metadata": {},
   "outputs": [
    {
     "name": "stdout",
     "output_type": "stream",
     "text": [
      "Found 2 csv files in mesh_500_analysis_dir\n"
     ]
    }
   ],
   "source": [
    "mesh_500_csvs = glob(os.path.join(mesh_500_analysis_dir, '*.csv'))\n",
    "print(f'Found {len(mesh_500_csvs)} csv files in mesh_500_analysis_dir')"
   ]
  },
  {
   "cell_type": "code",
   "execution_count": 4,
   "id": "6c31adea",
   "metadata": {},
   "outputs": [
    {
     "name": "stdout",
     "output_type": "stream",
     "text": [
      "Found 1353 csv files in objarverse_analysis_dir\n"
     ]
    }
   ],
   "source": [
    "objarverse_csvs = glob(os.path.join(objarverse_analysis_dir, '*/*/*.csv'))\n",
    "print(f'Found {len(objarverse_csvs)} csv files in objarverse_analysis_dir')"
   ]
  },
  {
   "cell_type": "code",
   "execution_count": 5,
   "id": "0a4e41ac",
   "metadata": {},
   "outputs": [
    {
     "name": "stdout",
     "output_type": "stream",
     "text": [
      "Found 1 csv files in shapenet_analysis_dir\n"
     ]
    }
   ],
   "source": [
    "shapenet_csvs = glob(os.path.join(shapenet_analysis_dir, '*.csv'))\n",
    "print(f'Found {len(shapenet_csvs)} csv files in shapenet_analysis_dir')"
   ]
  },
  {
   "cell_type": "code",
   "execution_count": 6,
   "id": "f5047d9d",
   "metadata": {},
   "outputs": [
    {
     "name": "stdout",
     "output_type": "stream",
     "text": [
      "Total csv files to process: 1356\n"
     ]
    }
   ],
   "source": [
    "csvs = mesh_500_csvs + objarverse_csvs + shapenet_csvs\n",
    "print(f'Total csv files to process: {len(csvs)}')"
   ]
  },
  {
   "cell_type": "code",
   "execution_count": 7,
   "id": "7e81e866",
   "metadata": {},
   "outputs": [
    {
     "name": "stderr",
     "output_type": "stream",
     "text": [
      "100%|███████████████████████████████████████████████████████████████████████████| 1356/1356 [00:00<00:00, 3312.51it/s]"
     ]
    },
    {
     "name": "stdout",
     "output_type": "stream",
     "text": [
      "Merged DataFrame has 969798 rows and 16 columns.\n"
     ]
    },
    {
     "name": "stderr",
     "output_type": "stream",
     "text": [
      "\n"
     ]
    }
   ],
   "source": [
    "# Read and merge all CSV files\n",
    "dataframes = []\n",
    "for csv_file in tqdm(csvs):\n",
    "    df = pl.read_csv(csv_file)\n",
    "    dataframes.append(df)\n",
    "merged_df = pl.concat(dataframes)\n",
    "\n",
    "print(f'Merged DataFrame has {merged_df.height} rows and {merged_df.width} columns.')"
   ]
  },
  {
   "cell_type": "code",
   "execution_count": 8,
   "id": "b88ccf02-3835-428c-a341-f156987e3fb7",
   "metadata": {},
   "outputs": [
    {
     "data": {
      "text/plain": [
       "['filename',\n",
       " 'num_vertices',\n",
       " 'num_faces',\n",
       " 'num_internal_edges',\n",
       " 'num_boundary_edges',\n",
       " 'min_connectivity',\n",
       " 'max_connectivity',\n",
       " 'avg_connectivity',\n",
       " 'num_components',\n",
       " 'smallest_component_vertices',\n",
       " 'smallest_component_faces',\n",
       " 'largest_component_vertices',\n",
       " 'largest_component_faces',\n",
       " 'mesh_volume',\n",
       " 'mesh_area',\n",
       " 'file_path']"
      ]
     },
     "execution_count": 8,
     "metadata": {},
     "output_type": "execute_result"
    }
   ],
   "source": [
    "merged_df.columns"
   ]
  },
  {
   "cell_type": "code",
   "execution_count": 9,
   "id": "6a86ce12",
   "metadata": {},
   "outputs": [
    {
     "name": "stdout",
     "output_type": "stream",
     "text": [
      "Filtered DataFrame has 969319 rows.\n"
     ]
    }
   ],
   "source": [
    "# Filter all rows where 'mesh_volume' > 0.001 and 'mesh_area' > 0.001\n",
    "vf_filtered_df = merged_df.filter(pl.col('mesh_area') > 0.001)\n",
    "print(f'Filtered DataFrame has {vf_filtered_df.height} rows.')"
   ]
  },
  {
   "cell_type": "code",
   "execution_count": 10,
   "id": "34350374",
   "metadata": {},
   "outputs": [
    {
     "name": "stdout",
     "output_type": "stream",
     "text": [
      "Vertex Filtered DataFrame has 586462 rows.\n"
     ]
    }
   ],
   "source": [
    "# Filter all rows where 'num_vertices' > 100 and 'num_vertices' < 512\n",
    "vertex_filtered_df = vf_filtered_df.filter(pl.col('num_vertices') < 512)\n",
    "print(f'Vertex Filtered DataFrame has {vertex_filtered_df.height} rows.')"
   ]
  },
  {
   "cell_type": "code",
   "execution_count": 11,
   "id": "63f75c6e-12fe-4f5e-bb59-3dcc5a461f12",
   "metadata": {},
   "outputs": [
    {
     "name": "stdout",
     "output_type": "stream",
     "text": [
      "Connectiivity Filtered DataFrame has 210169 rows.\n"
     ]
    }
   ],
   "source": [
    "# Filter all rows where 'max_connectivity' <= 8\n",
    "mac_filtered_df = vertex_filtered_df.filter(pl.col('max_connectivity') <= 8)\n",
    "print(f'Connectiivity Filtered DataFrame has {mac_filtered_df.height} rows.')"
   ]
  },
  {
   "cell_type": "code",
   "execution_count": 12,
   "id": "a2f91d30",
   "metadata": {},
   "outputs": [
    {
     "name": "stdout",
     "output_type": "stream",
     "text": [
      "Connectivity Filtered DataFrame has 210168 rows.\n"
     ]
    }
   ],
   "source": [
    "# Filter all rows where 'min_connectivity' >= 2\n",
    "mic_filtered_df = mac_filtered_df.filter(pl.col('min_connectivity') >= 2)\n",
    "print(f'Connectivity Filtered DataFrame has {mic_filtered_df.height} rows.')"
   ]
  },
  {
   "cell_type": "code",
   "execution_count": 13,
   "id": "b4071f02-d435-481a-9a48-c4d85f01c04c",
   "metadata": {},
   "outputs": [
    {
     "name": "stdout",
     "output_type": "stream",
     "text": [
      "Component Filtered DataFrame has 195775 rows.\n"
     ]
    }
   ],
   "source": [
    "com_filtered_df = mic_filtered_df.filter(pl.col('num_components') <= 10)\n",
    "print(f'Component Filtered DataFrame has {com_filtered_df.height} rows.')"
   ]
  }
 ],
 "metadata": {
  "kernelspec": {
   "display_name": "Python 3 (ipykernel)",
   "language": "python",
   "name": "python3"
  },
  "language_info": {
   "codemirror_mode": {
    "name": "ipython",
    "version": 3
   },
   "file_extension": ".py",
   "mimetype": "text/x-python",
   "name": "python",
   "nbconvert_exporter": "python",
   "pygments_lexer": "ipython3",
   "version": "3.12.2"
  }
 },
 "nbformat": 4,
 "nbformat_minor": 5
}
