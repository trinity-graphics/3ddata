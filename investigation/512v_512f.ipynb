{
 "cells": [
  {
   "cell_type": "code",
   "execution_count": 2,
   "id": "d8057943",
   "metadata": {},
   "outputs": [],
   "source": [
    "import os\n",
    "import polars as pl\n",
    "import numpy as np\n",
    "\n",
    "from glob import glob\n",
    "from tqdm import tqdm"
   ]
  },
  {
   "cell_type": "code",
   "execution_count": 3,
   "id": "c3664043",
   "metadata": {},
   "outputs": [],
   "source": [
    "mesh_500_analysis_dir = '/media/koi/Expansion/data/mesh_500_analysis'\n",
    "objarverse_analysis_dir = '/media/koi/Expansion/data/objarverse_analysis'"
   ]
  },
  {
   "cell_type": "code",
   "execution_count": 5,
   "id": "93e74e51",
   "metadata": {},
   "outputs": [
    {
     "name": "stdout",
     "output_type": "stream",
     "text": [
      "Found 2 csv files in mesh_500_analysis_dir\n"
     ]
    }
   ],
   "source": [
    "mesh_500_csvs = glob(os.path.join(mesh_500_analysis_dir, '*.csv'))\n",
    "print(f'Found {len(mesh_500_csvs)} csv files in mesh_500_analysis_dir')"
   ]
  },
  {
   "cell_type": "code",
   "execution_count": 7,
   "id": "6c31adea",
   "metadata": {},
   "outputs": [
    {
     "name": "stdout",
     "output_type": "stream",
     "text": [
      "Found 220 csv files in objarverse_analysis_dir\n"
     ]
    }
   ],
   "source": [
    "objarverse_csvs = glob(os.path.join(objarverse_analysis_dir, '*/*/*.csv'))\n",
    "print(f'Found {len(objarverse_csvs)} csv files in objarverse_analysis_dir')"
   ]
  },
  {
   "cell_type": "code",
   "execution_count": 8,
   "id": "f5047d9d",
   "metadata": {},
   "outputs": [
    {
     "name": "stdout",
     "output_type": "stream",
     "text": [
      "Total csv files to process: 222\n"
     ]
    }
   ],
   "source": [
    "csvs = mesh_500_csvs + objarverse_csvs\n",
    "print(f'Total csv files to process: {len(csvs)}')"
   ]
  },
  {
   "cell_type": "code",
   "execution_count": 9,
   "id": "7e81e866",
   "metadata": {},
   "outputs": [
    {
     "name": "stdout",
     "output_type": "stream",
     "text": [
      "Merged DataFrame has 259380 rows and 16 columns.\n"
     ]
    }
   ],
   "source": [
    "# Read and merge all CSV files\n",
    "dataframes = []\n",
    "for csv_file in tqdm(csvs):\n",
    "    df = pl.read_csv(csv_file)\n",
    "    dataframes.append(df)\n",
    "merged_df = pl.concat(dataframes)\n",
    "\n",
    "print(f'Merged DataFrame has {merged_df.height} rows and {merged_df.width} columns.')"
   ]
  },
  {
   "cell_type": "code",
   "execution_count": 10,
   "id": "e7312073",
   "metadata": {},
   "outputs": [
    {
     "data": {
      "text/html": [
       "<div><style>\n",
       ".dataframe > thead > tr,\n",
       ".dataframe > tbody > tr {\n",
       "  text-align: right;\n",
       "  white-space: pre-wrap;\n",
       "}\n",
       "</style>\n",
       "<small>shape: (5, 16)</small><table border=\"1\" class=\"dataframe\"><thead><tr><th>filename</th><th>num_vertices</th><th>num_faces</th><th>num_internal_edges</th><th>num_boundary_edges</th><th>min_connectivity</th><th>max_connectivity</th><th>avg_connectivity</th><th>num_components</th><th>smallest_component_vertices</th><th>smallest_component_faces</th><th>largest_component_vertices</th><th>largest_component_faces</th><th>mesh_volume</th><th>mesh_area</th><th>file_path</th></tr><tr><td>str</td><td>i64</td><td>i64</td><td>i64</td><td>i64</td><td>i64</td><td>i64</td><td>f64</td><td>i64</td><td>i64</td><td>i64</td><td>i64</td><td>i64</td><td>f64</td><td>f64</td><td>str</td></tr></thead><tbody><tr><td>&quot;076_256f61e812734f0b8ba77ccd2a…</td><td>46</td><td>88</td><td>132</td><td>0</td><td>3</td><td>9</td><td>5.73913</td><td>1</td><td>46</td><td>88</td><td>46</td><td>88</td><td>0.028892</td><td>0.636182</td><td>&quot;/mnt/clean/mesh_500_clean/trai…</td></tr><tr><td>&quot;054_0602da67f463429289caa9147b…</td><td>20</td><td>34</td><td>49</td><td>4</td><td>3</td><td>10</td><td>5.3</td><td>1</td><td>20</td><td>36</td><td>20</td><td>36</td><td>0.0</td><td>0.618794</td><td>&quot;/mnt/clean/mesh_500_clean/trai…</td></tr><tr><td>&quot;003_eca381f3d9dc45daa92b043ae2…</td><td>80</td><td>142</td><td>207</td><td>12</td><td>4</td><td>14</td><td>5.475</td><td>3</td><td>12</td><td>20</td><td>34</td><td>64</td><td>0.0</td><td>1.142529</td><td>&quot;/mnt/clean/mesh_500_clean/trai…</td></tr><tr><td>&quot;094_53b7928e7739438c85c0f692b7…</td><td>123</td><td>242</td><td>363</td><td>0</td><td>3</td><td>10</td><td>5.902439</td><td>1</td><td>123</td><td>242</td><td>123</td><td>242</td><td>0.30359</td><td>2.426761</td><td>&quot;/mnt/clean/mesh_500_clean/trai…</td></tr><tr><td>&quot;015_5f690cdf8e0743b7bddbd87eab…</td><td>20</td><td>36</td><td>54</td><td>0</td><td>4</td><td>6</td><td>5.4</td><td>1</td><td>20</td><td>36</td><td>20</td><td>36</td><td>0.071738</td><td>2.225983</td><td>&quot;/mnt/clean/mesh_500_clean/trai…</td></tr></tbody></table></div>"
      ],
      "text/plain": [
       "shape: (5, 16)\n",
       "┌───────────┬───────────┬───────────┬───────────┬───┬───────────┬───────────┬───────────┬──────────┐\n",
       "│ filename  ┆ num_verti ┆ num_faces ┆ num_inter ┆ … ┆ largest_c ┆ mesh_volu ┆ mesh_area ┆ file_pat │\n",
       "│ ---       ┆ ces       ┆ ---       ┆ nal_edges ┆   ┆ omponent_ ┆ me        ┆ ---       ┆ h        │\n",
       "│ str       ┆ ---       ┆ i64       ┆ ---       ┆   ┆ faces     ┆ ---       ┆ f64       ┆ ---      │\n",
       "│           ┆ i64       ┆           ┆ i64       ┆   ┆ ---       ┆ f64       ┆           ┆ str      │\n",
       "│           ┆           ┆           ┆           ┆   ┆ i64       ┆           ┆           ┆          │\n",
       "╞═══════════╪═══════════╪═══════════╪═══════════╪═══╪═══════════╪═══════════╪═══════════╪══════════╡\n",
       "│ 076_256f6 ┆ 46        ┆ 88        ┆ 132       ┆ … ┆ 88        ┆ 0.028892  ┆ 0.636182  ┆ /mnt/cle │\n",
       "│ 1e812734f ┆           ┆           ┆           ┆   ┆           ┆           ┆           ┆ an/mesh_ │\n",
       "│ 0b8ba77cc ┆           ┆           ┆           ┆   ┆           ┆           ┆           ┆ 500_clea │\n",
       "│ d2a…      ┆           ┆           ┆           ┆   ┆           ┆           ┆           ┆ n/trai…  │\n",
       "│ 054_0602d ┆ 20        ┆ 34        ┆ 49        ┆ … ┆ 36        ┆ 0.0       ┆ 0.618794  ┆ /mnt/cle │\n",
       "│ a67f46342 ┆           ┆           ┆           ┆   ┆           ┆           ┆           ┆ an/mesh_ │\n",
       "│ 9289caa91 ┆           ┆           ┆           ┆   ┆           ┆           ┆           ┆ 500_clea │\n",
       "│ 47b…      ┆           ┆           ┆           ┆   ┆           ┆           ┆           ┆ n/trai…  │\n",
       "│ 003_eca38 ┆ 80        ┆ 142       ┆ 207       ┆ … ┆ 64        ┆ 0.0       ┆ 1.142529  ┆ /mnt/cle │\n",
       "│ 1f3d9dc45 ┆           ┆           ┆           ┆   ┆           ┆           ┆           ┆ an/mesh_ │\n",
       "│ daa92b043 ┆           ┆           ┆           ┆   ┆           ┆           ┆           ┆ 500_clea │\n",
       "│ ae2…      ┆           ┆           ┆           ┆   ┆           ┆           ┆           ┆ n/trai…  │\n",
       "│ 094_53b79 ┆ 123       ┆ 242       ┆ 363       ┆ … ┆ 242       ┆ 0.30359   ┆ 2.426761  ┆ /mnt/cle │\n",
       "│ 28e773943 ┆           ┆           ┆           ┆   ┆           ┆           ┆           ┆ an/mesh_ │\n",
       "│ 8c85c0f69 ┆           ┆           ┆           ┆   ┆           ┆           ┆           ┆ 500_clea │\n",
       "│ 2b7…      ┆           ┆           ┆           ┆   ┆           ┆           ┆           ┆ n/trai…  │\n",
       "│ 015_5f690 ┆ 20        ┆ 36        ┆ 54        ┆ … ┆ 36        ┆ 0.071738  ┆ 2.225983  ┆ /mnt/cle │\n",
       "│ cdf8e0743 ┆           ┆           ┆           ┆   ┆           ┆           ┆           ┆ an/mesh_ │\n",
       "│ b7bddbd87 ┆           ┆           ┆           ┆   ┆           ┆           ┆           ┆ 500_clea │\n",
       "│ eab…      ┆           ┆           ┆           ┆   ┆           ┆           ┆           ┆ n/trai…  │\n",
       "└───────────┴───────────┴───────────┴───────────┴───┴───────────┴───────────┴───────────┴──────────┘"
      ]
     },
     "execution_count": 10,
     "metadata": {},
     "output_type": "execute_result"
    }
   ],
   "source": [
    "merged_df.head()"
   ]
  },
  {
   "cell_type": "code",
   "execution_count": 16,
   "id": "6a86ce12",
   "metadata": {},
   "outputs": [
    {
     "name": "stdout",
     "output_type": "stream",
     "text": [
      "Filtered DataFrame has 85399 rows.\n"
     ]
    }
   ],
   "source": [
    "# Filter all rows where 'mesh_volume' > 0.001 and 'mesh_area' > 0.001\n",
    "vf_filtered_df = merged_df.filter((pl.col('mesh_volume') > 0.001) & (pl.col('mesh_area') > 0.001))\n",
    "print(f'Filtered DataFrame has {vf_filtered_df.height} rows.')"
   ]
  },
  {
   "cell_type": "code",
   "execution_count": 24,
   "id": "34350374",
   "metadata": {},
   "outputs": [
    {
     "name": "stdout",
     "output_type": "stream",
     "text": [
      "Vertex Filtered DataFrame has 26735 rows.\n"
     ]
    }
   ],
   "source": [
    "# Filter all rows where 'num_vertices' > 100 and 'num_vertices' < 512\n",
    "vertex_filtered_df = vf_filtered_df.filter((pl.col('num_vertices') > 100) & (pl.col('num_vertices') < 1024))\n",
    "print(f'Vertex Filtered DataFrame has {vertex_filtered_df.height} rows.')"
   ]
  }
 ],
 "metadata": {
  "kernelspec": {
   "display_name": ".env",
   "language": "python",
   "name": "python3"
  },
  "language_info": {
   "codemirror_mode": {
    "name": "ipython",
    "version": 3
   },
   "file_extension": ".py",
   "mimetype": "text/x-python",
   "name": "python",
   "nbconvert_exporter": "python",
   "pygments_lexer": "ipython3",
   "version": "3.12.2"
  }
 },
 "nbformat": 4,
 "nbformat_minor": 5
}
